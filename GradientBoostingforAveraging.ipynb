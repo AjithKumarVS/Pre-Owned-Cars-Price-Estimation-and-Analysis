{
 "cells": [
  {
   "cell_type": "markdown",
   "metadata": {},
   "source": [
    "# Modelling "
   ]
  },
  {
   "cell_type": "markdown",
   "metadata": {},
   "source": [
    "### Final - PreProcessing"
   ]
  },
  {
   "cell_type": "code",
   "execution_count": 1,
   "metadata": {},
   "outputs": [],
   "source": [
    "# Importing the libraries\n",
    "\n",
    "# Final - preprocessing libraries for modelling\n",
    "from sklearn.model_selection import train_test_split\n",
    "from sklearn import ensemble\n",
    "import pandas as pd\n",
    "import numpy as np\n",
    "from sklearn.preprocessing import LabelEncoder\n",
    "from sklearn.metrics import mean_squared_error\n",
    "from math import sqrt\n",
    "\n",
    "\n",
    "# visulizations\n",
    "import seaborn as sns\n",
    "import matplotlib.pyplot as plt\n",
    "\n",
    "# Modelling, stats\n",
    "from sklearn.preprocessing import RobustScaler\n",
    "from sklearn.linear_model import LinearRegression\n",
    "import sklearn.model_selection as ms\n",
    "import math\n",
    "import sklearn.metrics as sklm\n",
    "import statsmodels.api as sm"
   ]
  },
  {
   "cell_type": "code",
   "execution_count": 2,
   "metadata": {},
   "outputs": [],
   "source": [
    "# reading the cleaned data\n",
    "cleaned=pd.read_csv(\"D:/github/dataSets/dpa_project/cleanedDataForModelling.csv\").drop('age',axis=1)"
   ]
  },
  {
   "cell_type": "code",
   "execution_count": 3,
   "metadata": {},
   "outputs": [
    {
     "data": {
      "text/html": [
       "<div>\n",
       "<style scoped>\n",
       "    .dataframe tbody tr th:only-of-type {\n",
       "        vertical-align: middle;\n",
       "    }\n",
       "\n",
       "    .dataframe tbody tr th {\n",
       "        vertical-align: top;\n",
       "    }\n",
       "\n",
       "    .dataframe thead th {\n",
       "        text-align: right;\n",
       "    }\n",
       "</style>\n",
       "<table border=\"1\" class=\"dataframe\">\n",
       "  <thead>\n",
       "    <tr style=\"text-align: right;\">\n",
       "      <th></th>\n",
       "      <th>price</th>\n",
       "      <th>year</th>\n",
       "      <th>manufacturer</th>\n",
       "      <th>condition</th>\n",
       "      <th>cylinders</th>\n",
       "      <th>fuel</th>\n",
       "      <th>odometer</th>\n",
       "      <th>title_status</th>\n",
       "      <th>transmission</th>\n",
       "      <th>drive</th>\n",
       "      <th>type</th>\n",
       "      <th>paint_color</th>\n",
       "      <th>state</th>\n",
       "    </tr>\n",
       "  </thead>\n",
       "  <tbody>\n",
       "    <tr>\n",
       "      <th>0</th>\n",
       "      <td>17899</td>\n",
       "      <td>2012.0</td>\n",
       "      <td>volkswagen</td>\n",
       "      <td>excellent</td>\n",
       "      <td>4 cylinders</td>\n",
       "      <td>gas</td>\n",
       "      <td>63500.0</td>\n",
       "      <td>clean</td>\n",
       "      <td>manual</td>\n",
       "      <td>4wd</td>\n",
       "      <td>hatchback</td>\n",
       "      <td>black</td>\n",
       "      <td>west</td>\n",
       "    </tr>\n",
       "    <tr>\n",
       "      <th>1</th>\n",
       "      <td>13999</td>\n",
       "      <td>2009.0</td>\n",
       "      <td>ram</td>\n",
       "      <td>good</td>\n",
       "      <td>6 cylinders</td>\n",
       "      <td>gas</td>\n",
       "      <td>120057.0</td>\n",
       "      <td>clean</td>\n",
       "      <td>automatic</td>\n",
       "      <td>4wd</td>\n",
       "      <td>pickup</td>\n",
       "      <td>silver</td>\n",
       "      <td>west</td>\n",
       "    </tr>\n",
       "    <tr>\n",
       "      <th>2</th>\n",
       "      <td>34500</td>\n",
       "      <td>2017.0</td>\n",
       "      <td>ford</td>\n",
       "      <td>excellent</td>\n",
       "      <td>6 cylinders</td>\n",
       "      <td>diesel</td>\n",
       "      <td>95484.0</td>\n",
       "      <td>clean</td>\n",
       "      <td>automatic</td>\n",
       "      <td>4wd</td>\n",
       "      <td>pickup</td>\n",
       "      <td>white</td>\n",
       "      <td>west</td>\n",
       "    </tr>\n",
       "    <tr>\n",
       "      <th>3</th>\n",
       "      <td>14500</td>\n",
       "      <td>2007.0</td>\n",
       "      <td>gmc</td>\n",
       "      <td>excellent</td>\n",
       "      <td>6 cylinders</td>\n",
       "      <td>gas</td>\n",
       "      <td>89340.0</td>\n",
       "      <td>clean</td>\n",
       "      <td>automatic</td>\n",
       "      <td>4wd</td>\n",
       "      <td>pickup</td>\n",
       "      <td>white</td>\n",
       "      <td>west</td>\n",
       "    </tr>\n",
       "    <tr>\n",
       "      <th>4</th>\n",
       "      <td>12500</td>\n",
       "      <td>2013.0</td>\n",
       "      <td>ford</td>\n",
       "      <td>fair</td>\n",
       "      <td>6 cylinders</td>\n",
       "      <td>gas</td>\n",
       "      <td>226031.0</td>\n",
       "      <td>clean</td>\n",
       "      <td>automatic</td>\n",
       "      <td>4wd</td>\n",
       "      <td>pickup</td>\n",
       "      <td>white</td>\n",
       "      <td>west</td>\n",
       "    </tr>\n",
       "  </tbody>\n",
       "</table>\n",
       "</div>"
      ],
      "text/plain": [
       "   price    year manufacturer  condition    cylinders    fuel  odometer  \\\n",
       "0  17899  2012.0   volkswagen  excellent  4 cylinders     gas   63500.0   \n",
       "1  13999  2009.0          ram       good  6 cylinders     gas  120057.0   \n",
       "2  34500  2017.0         ford  excellent  6 cylinders  diesel   95484.0   \n",
       "3  14500  2007.0          gmc  excellent  6 cylinders     gas   89340.0   \n",
       "4  12500  2013.0         ford       fair  6 cylinders     gas  226031.0   \n",
       "\n",
       "  title_status transmission drive       type paint_color state  \n",
       "0        clean       manual   4wd  hatchback       black  west  \n",
       "1        clean    automatic   4wd     pickup      silver  west  \n",
       "2        clean    automatic   4wd     pickup       white  west  \n",
       "3        clean    automatic   4wd     pickup       white  west  \n",
       "4        clean    automatic   4wd     pickup       white  west  "
      ]
     },
     "execution_count": 3,
     "metadata": {},
     "output_type": "execute_result"
    }
   ],
   "source": [
    "# glimpse of the data\n",
    "cleaned.head()"
   ]
  },
  {
   "cell_type": "markdown",
   "metadata": {},
   "source": [
    "### Skeweness - Making the independent variable normal distribution"
   ]
  },
  {
   "cell_type": "code",
   "execution_count": 4,
   "metadata": {},
   "outputs": [],
   "source": [
    "# Applying log tranformation - for normal distribution (rememeber we find it is skewed in EDA)\n",
    "cleaned[\"price\"]=np.log1p(cleaned[\"price\"])"
   ]
  },
  {
   "cell_type": "markdown",
   "metadata": {},
   "source": [
    "### Splitting the dataset"
   ]
  },
  {
   "cell_type": "code",
   "execution_count": 5,
   "metadata": {},
   "outputs": [],
   "source": [
    "# Splitting the data using sklearn for modelling\n",
    "y=cleaned[\"price\"]\n",
    "x=cleaned.drop('price',axis=1)\n",
    "x_train,x_test,y_train,y_test=train_test_split(x,y,test_size=0.2,random_state=42)"
   ]
  },
  {
   "cell_type": "markdown",
   "metadata": {},
   "source": [
    "### Normalization"
   ]
  },
  {
   "cell_type": "code",
   "execution_count": 6,
   "metadata": {},
   "outputs": [
    {
     "name": "stderr",
     "output_type": "stream",
     "text": [
      "C:\\Users\\sukes\\Anaconda3\\lib\\site-packages\\ipykernel_launcher.py:3: SettingWithCopyWarning: \n",
      "A value is trying to be set on a copy of a slice from a DataFrame.\n",
      "Try using .loc[row_indexer,col_indexer] = value instead\n",
      "\n",
      "See the caveats in the documentation: http://pandas.pydata.org/pandas-docs/stable/indexing.html#indexing-view-versus-copy\n",
      "  This is separate from the ipykernel package so we can avoid doing imports until\n",
      "C:\\Users\\sukes\\Anaconda3\\lib\\site-packages\\ipykernel_launcher.py:7: SettingWithCopyWarning: \n",
      "A value is trying to be set on a copy of a slice from a DataFrame.\n",
      "Try using .loc[row_indexer,col_indexer] = value instead\n",
      "\n",
      "See the caveats in the documentation: http://pandas.pydata.org/pandas-docs/stable/indexing.html#indexing-view-versus-copy\n",
      "  import sys\n",
      "C:\\Users\\sukes\\Anaconda3\\lib\\site-packages\\ipykernel_launcher.py:9: SettingWithCopyWarning: \n",
      "A value is trying to be set on a copy of a slice from a DataFrame.\n",
      "Try using .loc[row_indexer,col_indexer] = value instead\n",
      "\n",
      "See the caveats in the documentation: http://pandas.pydata.org/pandas-docs/stable/indexing.html#indexing-view-versus-copy\n",
      "  if __name__ == '__main__':\n",
      "C:\\Users\\sukes\\Anaconda3\\lib\\site-packages\\ipykernel_launcher.py:10: SettingWithCopyWarning: \n",
      "A value is trying to be set on a copy of a slice from a DataFrame.\n",
      "Try using .loc[row_indexer,col_indexer] = value instead\n",
      "\n",
      "See the caveats in the documentation: http://pandas.pydata.org/pandas-docs/stable/indexing.html#indexing-view-versus-copy\n",
      "  # Remove the CWD from sys.path while we load stuff.\n"
     ]
    }
   ],
   "source": [
    "# Applying normalization for the atrributes to be on same scaling\n",
    "x_odomin=x_train[\"odometer\"].min()\n",
    "x_odomax=x_train[\"odometer\"].max()\n",
    "x_train[\"odometer\"]=((x_train[\"odometer\"]-x_odomin)/(x_odomax-x_odomin))\n",
    "\n",
    "x_yearmin=x_train[\"year\"].min()\n",
    "x_yearmax=x_train[\"year\"].max()\n",
    "x_train[\"year\"]=((x_train[\"year\"]-x_yearmin)/(x_yearmax-x_yearmin))\n",
    "\n",
    "x_test[\"odometer\"]=((x_test[\"odometer\"]-x_odomin)/(x_odomax-x_odomin))\n",
    "x_test[\"year\"]=((x_test[\"year\"]-x_yearmin)/(x_yearmax-x_yearmin))"
   ]
  },
  {
   "cell_type": "markdown",
   "metadata": {},
   "source": [
    "### Encoding"
   ]
  },
  {
   "cell_type": "code",
   "execution_count": 7,
   "metadata": {},
   "outputs": [
    {
     "name": "stderr",
     "output_type": "stream",
     "text": [
      "C:\\Users\\sukes\\Anaconda3\\lib\\site-packages\\ipykernel_launcher.py:6: SettingWithCopyWarning: \n",
      "A value is trying to be set on a copy of a slice from a DataFrame.\n",
      "Try using .loc[row_indexer,col_indexer] = value instead\n",
      "\n",
      "See the caveats in the documentation: http://pandas.pydata.org/pandas-docs/stable/indexing.html#indexing-view-versus-copy\n",
      "  \n",
      "C:\\Users\\sukes\\Anaconda3\\lib\\site-packages\\ipykernel_launcher.py:10: SettingWithCopyWarning: \n",
      "A value is trying to be set on a copy of a slice from a DataFrame.\n",
      "Try using .loc[row_indexer,col_indexer] = value instead\n",
      "\n",
      "See the caveats in the documentation: http://pandas.pydata.org/pandas-docs/stable/indexing.html#indexing-view-versus-copy\n",
      "  # Remove the CWD from sys.path while we load stuff.\n"
     ]
    }
   ],
   "source": [
    "# For ordinal - attributes\n",
    "# Labe encoding\n",
    "ordinal_columns=[\"cylinders\"]\n",
    "\n",
    "for col in ordinal_columns:\n",
    "     le = LabelEncoder()\n",
    "     le.fit_transform(list(x_train[col].astype(str).values))\n",
    "     x_train[col] = le.transform(list(x_train[col].astype(str).values))\n",
    "\n",
    "for col in ordinal_columns:\n",
    "    le.fit(list(x_test[col].astype(str).values))\n",
    "    x_test[col] = le.transform(list(x_test[col].astype(str).values))\n",
    "\n",
    "# for nominal attributes - one hot encoding\n",
    "xx_train=pd.get_dummies(x_train)\n",
    "xx_test=pd.get_dummies(x_test)"
   ]
  },
  {
   "cell_type": "code",
   "execution_count": 8,
   "metadata": {},
   "outputs": [],
   "source": [
    "missing_cols=set(xx_train.columns)-set(xx_test.columns)\n",
    "for val in missing_cols:\n",
    "    xx_test[val]=0\n",
    "    \n",
    "xx_test=xx_test[xx_train.columns]"
   ]
  },
  {
   "cell_type": "markdown",
   "metadata": {},
   "source": [
    "### Metrics"
   ]
  },
  {
   "cell_type": "code",
   "execution_count": 49,
   "metadata": {},
   "outputs": [],
   "source": [
    "# storing the model metrics (r2, rmse) for latter anaysis and comparing the model\n",
    "acc_train_r2 = []\n",
    "acc_test_r2 = []\n",
    "acc_train_rmse = []\n",
    "acc_test_rmse = []"
   ]
  },
  {
   "cell_type": "markdown",
   "metadata": {},
   "source": [
    "###  Gradient Boosting Algo - Modelling"
   ]
  },
  {
   "cell_type": "code",
   "execution_count": 15,
   "metadata": {},
   "outputs": [],
   "source": [
    "# Hyper-Paramter Tuning - Gradient Boositng\n",
    "def train_GB(est,max_depth,lr):\n",
    "    params={'n_estimators': est, 'max_depth': max_depth,'learning_rate': lr}\n",
    "    gb=ensemble.GradientBoostingRegressor(**params)\n",
    "    gb_model=gb.fit(xx_train,y_train)\n",
    "    y_pred=gb_model.predict(xx_test)\n",
    "    ybar=np.sum(y_test)/len(y_test)\n",
    "    sse = np.sum((y_test-y_pred)**2)  \n",
    "    sst = np.sum((y_test - ybar)**2) \n",
    "    rsq=1-(sse/sst)\n",
    "    print(\"{}---> NEstimators{}-MaxDepth{}-LearningRate{}\".format(rsq,est,max_depth,lr))"
   ]
  },
  {
   "cell_type": "code",
   "execution_count": 10,
   "metadata": {},
   "outputs": [],
   "source": [
    "# Traing the model with the best parametes from abover hyper-paramater tuning\n",
    "params={'n_estimators': 500, 'max_depth': 8,'learning_rate': 0.1}\n",
    "gb=ensemble.GradientBoostingRegressor(**params)\n",
    "gb_model=gb.fit(xx_train,y_train)"
   ]
  },
  {
   "cell_type": "code",
   "execution_count": 50,
   "metadata": {},
   "outputs": [
    {
     "name": "stdout",
     "output_type": "stream",
     "text": [
      "Root Mean Squared Error Test=0.2924540751026011\n",
      "R-Squared Test=0.8396300526912789\n"
     ]
    }
   ],
   "source": [
    "# predicting the metrics r2,rmse on test data \n",
    "\n",
    "y_pred=gb_model.predict(xx_test)\n",
    "mse = mean_squared_error(y_test,y_pred)\n",
    "rmse=sqrt(mse)\n",
    "rmse\n",
    "print(\"Root Mean Squared Error Test={}\".format(rmse))\n",
    "\n",
    "acc_test_rmse.insert(0,rmse)\n",
    "\n",
    "ybar=np.sum(y_test)/len(y_test)\n",
    "sse = np.sum((y_test-y_pred)**2)  \n",
    "sst = np.sum((y_test - ybar)**2) \n",
    "rsq=1-(sse/sst)\n",
    "print(\"R-Squared Test={}\".format(rsq))\n",
    "\n",
    "acc_test_r2.insert(0,rsq)\n"
   ]
  },
  {
   "cell_type": "code",
   "execution_count": 12,
   "metadata": {},
   "outputs": [
    {
     "name": "stdout",
     "output_type": "stream",
     "text": [
      "Feature Importances\n",
      "manufacturer>>0.0013349999340067614\n",
      "condition>>0.002012473516363473\n",
      "cylinders>>0.08073408622355019\n",
      "fuel>>0.016897971295484628\n",
      "title_status>>0.0021680462709201885\n",
      "transmission>>0.0017576965764930811\n",
      "drive>>0.003859739066129869\n",
      "type>>0.006429832824636217\n",
      "paint_color>>0.00040010407456338826\n",
      "state>>0.0028504878659479744\n",
      "Year>>0.5343092258347472\n",
      "Odometer>>0.0950705639878491\n"
     ]
    }
   ],
   "source": [
    "# feature Importance of the model\n",
    "features=pd.DataFrame(gb_model.feature_importances_,index=xx_train.columns)\n",
    "features[\"columns\"]=features.index\n",
    "features.index=range(0,len(features))\n",
    "features.columns=[\"value\",\"columns\"]\n",
    "\n",
    "print(\"Feature Importances\")\n",
    "categorical_columns=['manufacturer','condition','cylinders','fuel','title_status','transmission','drive','type','paint_color','state']\n",
    "for val in categorical_columns:\n",
    "    p=(features[features[\"columns\"].str.startswith(val)][\"value\"].sum())/len(features[features[\"columns\"].str.startswith(val)][\"value\"])\n",
    "    print(\"{}>>{}\".format(val,p))\n",
    "\n",
    "for index,row in features.iterrows():\n",
    "    if(row[\"columns\"]==\"odometer\"):\n",
    "        print(\"Odometer>>{}\".format(row[\"value\"]))\n",
    "    if(row[\"columns\"]==\"year\"):\n",
    "        print(\"Year>>{}\".format(row[\"value\"]))"
   ]
  },
  {
   "cell_type": "code",
   "execution_count": 51,
   "metadata": {},
   "outputs": [
    {
     "name": "stdout",
     "output_type": "stream",
     "text": [
      "Root Mean Squared Error Train=0.2688977552336742\n",
      "R-Squared=0.8646054168264261 Train\n"
     ]
    }
   ],
   "source": [
    "# predicting the metrics r2,rmse on train data \n",
    "y_predtr=gb_model.predict(xx_train)\n",
    "\n",
    "mse = mean_squared_error(y_train,y_predtr)\n",
    "rmse=sqrt(mse)\n",
    "rmse\n",
    "print(\"Root Mean Squared Error Train={}\".format(rmse))\n",
    "\n",
    "acc_train_rmse.insert(0,rmse)\n",
    "\n",
    "\n",
    "ybar=np.sum(y_train)/len(y_train)\n",
    "sse = np.sum((y_train-y_predtr)**2)  \n",
    "sst = np.sum((y_train - ybar)**2) \n",
    "rsq=1-(sse/sst)\n",
    "print(\"R-Squared={} Train\".format(rsq))\n",
    "\n",
    "acc_train_r2.insert(0,rsq)\n"
   ]
  },
  {
   "cell_type": "markdown",
   "metadata": {},
   "source": [
    "###  Random Forest - Modelling"
   ]
  },
  {
   "cell_type": "code",
   "execution_count": 14,
   "metadata": {},
   "outputs": [
    {
     "name": "stdout",
     "output_type": "stream",
     "text": [
      "R^2 score, Coefficient of determination: 0.8553009387424656\n",
      "Mean Absolute test Error: 0.17\n",
      "Mean Absolute train Error: 0.08\n",
      "------------------------------------\n",
      "Mean Squared test Error: 0.08\n",
      "Mean Squared train Error: 0.02\n",
      "------------------------------------\n",
      "Root Mean Squared test Error: 0.28\n",
      "Root Mean Squared train Error: 0.14\n",
      "------------------------------------\n"
     ]
    }
   ],
   "source": [
    "# training the random forest model with 20 tress and predicting the metrics r2,rmse on test data \n",
    "\n",
    "from sklearn.ensemble import RandomForestRegressor\n",
    "regressor = RandomForestRegressor(n_estimators=20, random_state=0)\n",
    "regressor.fit(xx_train,y_train)\n",
    "print('R^2 score, Coefficient of determination:',regressor.score(xx_test, y_test))\n",
    "y_pred_test = regressor.predict(xx_test)\n",
    "y_pred_train = regressor.predict(xx_train)\n",
    "\n",
    "\n",
    "# Metrics\n",
    "from sklearn import metrics\n",
    "print('Mean Absolute test Error:', round(metrics.mean_absolute_error(y_test, y_pred_test),2))\n",
    "print('Mean Absolute train Error:', round(metrics.mean_absolute_error(y_train, y_pred_train),2))\n",
    "print('------------------------------------')\n",
    "\n",
    "print('Mean Squared test Error:', round(metrics.mean_squared_error(y_test, y_pred_test),2))\n",
    "print('Mean Squared train Error:', round(metrics.mean_squared_error(y_train, y_pred_train),2))\n",
    "print('------------------------------------')\n",
    "\n",
    "print('Root Mean Squared test Error:', round(np.sqrt(metrics.mean_squared_error(y_test, y_pred_test)),2))\n",
    "print('Root Mean Squared train Error:', round(np.sqrt(metrics.mean_squared_error(y_train, y_pred_train)),2))\n",
    "\n",
    "print('------------------------------------')\n",
    "\n",
    "acc_train_rmse.insert(1, round(np.sqrt(metrics.mean_squared_error(y_train, y_pred_train)),2))\n",
    "acc_test_rmse.insert(1, round(np.sqrt(metrics.mean_squared_error(y_test, y_pred_test)),2))\n",
    "acc_test_r2.insert(1,regressor.score(xx_test, y_test))\n",
    "acc_train_r2.insert(1,regressor.score(xx_train, y_train))"
   ]
  },
  {
   "cell_type": "code",
   "execution_count": 13,
   "metadata": {},
   "outputs": [
    {
     "name": "stdout",
     "output_type": "stream",
     "text": [
      "0.8606586405003228\n",
      "Mean Absolute test Error: 0.17\n",
      "Mean Absolute train Error: 0.07\n",
      "------------------------------------\n",
      "Mean Squared test Error: 0.07\n",
      "Mean Squared train Error: 0.02\n",
      "------------------------------------\n",
      "Root Mean Squared test Error: 0.27\n",
      "Root Mean Squared train Error: 0.13\n",
      "------------------------------------\n"
     ]
    }
   ],
   "source": [
    "# training the random forest model with 200 tress, we can see that there is am minute improvement \n",
    "# predicting the metrics r2,rmse on test data \n",
    "\n",
    "from sklearn.ensemble import RandomForestRegressor\n",
    "regressor = RandomForestRegressor(n_estimators=200, random_state=0)\n",
    "regressor.fit(xx_train,y_train)\n",
    "print(regressor.score(xx_test, y_test))\n",
    "y_pred_test = regressor.predict(xx_test)\n",
    "y_pred_train = regressor.predict(xx_train)\n",
    "\n",
    "\n",
    "# Metrics\n",
    "from sklearn import metrics\n",
    "print('Mean Absolute test Error:', round(metrics.mean_absolute_error(y_test, y_pred_test),2))\n",
    "print('Mean Absolute train Error:', round(metrics.mean_absolute_error(y_train, y_pred_train),2))\n",
    "print('------------------------------------')\n",
    "\n",
    "print('Mean Squared test Error:', round(metrics.mean_squared_error(y_test, y_pred_test),2))\n",
    "print('Mean Squared train Error:', round(metrics.mean_squared_error(y_train, y_pred_train),2))\n",
    "print('------------------------------------')\n",
    "\n",
    "print('Root Mean Squared test Error:', round(np.sqrt(metrics.mean_squared_error(y_test, y_pred_test)),2))\n",
    "print('Root Mean Squared train Error:', round(np.sqrt(metrics.mean_squared_error(y_train, y_pred_train)),2))\n",
    "print('------------------------------------')"
   ]
  },
  {
   "cell_type": "markdown",
   "metadata": {},
   "source": [
    "### Multiple Regression + Regulirization"
   ]
  },
  {
   "cell_type": "code",
   "execution_count": 15,
   "metadata": {},
   "outputs": [],
   "source": [
    "# Variance Influence factor for finding the multi-collinearity\n",
    "def vif_cal(input_data, dependent_col):\n",
    "    vif_df = pd.DataFrame( columns = ['Var', 'Vif'])\n",
    "    x_vars=input_data.drop([dependent_col], axis=1)\n",
    "    xvar_names=x_vars.columns\n",
    "    for i in range(0,xvar_names.shape[0]):\n",
    "        y=x_vars[xvar_names[i]] \n",
    "        x=x_vars[xvar_names.drop(xvar_names[i])]\n",
    "        rsq=sm.OLS(y,x).fit().rsquared  \n",
    "        vif=round(1/(1-rsq),2)\n",
    "        vif_df.loc[i] = [xvar_names[i], vif]\n",
    "    return vif_df.sort_values(by = 'Vif', axis=0, ascending=False, inplace=False)"
   ]
  },
  {
   "cell_type": "code",
   "execution_count": 16,
   "metadata": {},
   "outputs": [],
   "source": [
    "# Multiple Linear Regression\n",
    "# predicting the metrics r2,rmse on test data and train data\n",
    "lreg_fill = LinearRegression()\n",
    "lreg_fill.fit(xx_train, y_train)\n",
    "y_fill_pred_train = lreg_fill.predict(xx_train)\n",
    "y_fill_pred_test = lreg_fill.predict(xx_test)"
   ]
  },
  {
   "cell_type": "code",
   "execution_count": 17,
   "metadata": {},
   "outputs": [
    {
     "name": "stdout",
     "output_type": "stream",
     "text": [
      "Root Mean Square Error train = 0.3796182767517307\n",
      "Root Mean Square Error test = 1706824.255638588\n"
     ]
    }
   ],
   "source": [
    "# predicting the metrics r2,rmse on test data and train data\n",
    "\n",
    "print('Root Mean Square Error train = ' + str(math.sqrt(sklm.mean_squared_error(y_train, y_fill_pred_train))))\n",
    "print('Root Mean Square Error test = ' + str(math.sqrt(sklm.mean_squared_error(y_test, y_fill_pred_test))))   "
   ]
  },
  {
   "cell_type": "code",
   "execution_count": 53,
   "metadata": {},
   "outputs": [],
   "source": [
    "# inserting the caculated metrics for latter analysis\n",
    "acc_train_rmse.insert(2, round(np.sqrt(metrics.mean_squared_error(y_train, y_fill_pred_train)),2))\n",
    "acc_test_rmse.insert(2, round(np.sqrt(metrics.mean_squared_error(y_test, y_fill_pred_test)),2))\n",
    "acc_test_r2.insert(2,lreg_fill.score(xx_test, y_test))\n",
    "acc_train_r2.insert(2,lreg_fill.score(xx_train, y_train))"
   ]
  },
  {
   "cell_type": "code",
   "execution_count": 19,
   "metadata": {},
   "outputs": [
    {
     "data": {
      "text/plain": [
       "[<matplotlib.lines.Line2D at 0x1eb9557f3c8>]"
      ]
     },
     "execution_count": 19,
     "metadata": {},
     "output_type": "execute_result"
    },
    {
     "data": {
      "image/png": "[encoded data removed]",
      "text/plain": [
       "<Figure size 432x288 with 1 Axes>"
      ]
     },
     "metadata": {
      "needs_background": "light"
     },
     "output_type": "display_data"
    }
   ],
   "source": [
    "# Comparing the predicted train values and actual train values\n",
    "c = [i for i in range(1,51,1)]\n",
    "fig = plt.figure()\n",
    "plt.plot(c,y_train[0:50],color=\"blue\",linestyle=\"-\")\n",
    "plt.plot(c,y_fill_pred_train[0:50],color=\"red\",linestyle=\"-\")"
   ]
  },
  {
   "cell_type": "code",
   "execution_count": 20,
   "metadata": {},
   "outputs": [
    {
     "data": {
      "text/plain": [
       "[<matplotlib.lines.Line2D at 0x1eb9547ae48>]"
      ]
     },
     "execution_count": 20,
     "metadata": {},
     "output_type": "execute_result"
    },
    {
     "data": {
      "image/png": "[encoded data removed]",
      "text/plain": [
       "<Figure size 432x288 with 1 Axes>"
      ]
     },
     "metadata": {
      "needs_background": "light"
     },
     "output_type": "display_data"
    }
   ],
   "source": [
    "# Comparing the predicted test values and actual test values\n",
    "c = [i for i in range(1,51,1)]\n",
    "fig = plt.figure()\n",
    "plt.plot(c,y_test[0:50],color=\"blue\",linestyle=\"-\")\n",
    "plt.plot(c,y_fill_pred_test[0:50],color=\"red\",linestyle=\"-\")"
   ]
  },
  {
   "cell_type": "code",
   "execution_count": 21,
   "metadata": {
    "scrolled": false
   },
   "outputs": [
    {
     "name": "stderr",
     "output_type": "stream",
     "text": [
      "C:\\Users\\sukes\\Anaconda3\\lib\\site-packages\\numpy\\core\\fromnumeric.py:2389: FutureWarning: Method .ptp is deprecated and will be removed in a future version. Use numpy.ptp instead.\n",
      "  return ptp(axis=axis, out=out, **kwargs)\n"
     ]
    },
    {
     "data": {
      "text/html": [
       "<table class=\"simpletable\">\n",
       "<caption>OLS Regression Results</caption>\n",
       "<tr>\n",
       "  <th>Dep. Variable:</th>          <td>price</td>      <th>  R-squared:         </th>  <td>   0.730</td>  \n",
       "</tr>\n",
       "<tr>\n",
       "  <th>Model:</th>                   <td>OLS</td>       <th>  Adj. R-squared:    </th>  <td>   0.730</td>  \n",
       "</tr>\n",
       "<tr>\n",
       "  <th>Method:</th>             <td>Least Squares</td>  <th>  F-statistic:       </th>  <td>   9967.</td>  \n",
       "</tr>\n",
       "<tr>\n",
       "  <th>Date:</th>             <td>Sun, 19 Apr 2020</td> <th>  Prob (F-statistic):</th>   <td>  0.00</td>   \n",
       "</tr>\n",
       "<tr>\n",
       "  <th>Time:</th>                 <td>00:49:38</td>     <th>  Log-Likelihood:    </th> <td>-1.4602e+05</td>\n",
       "</tr>\n",
       "<tr>\n",
       "  <th>No. Observations:</th>      <td>324232</td>      <th>  AIC:               </th>  <td>2.922e+05</td> \n",
       "</tr>\n",
       "<tr>\n",
       "  <th>Df Residuals:</th>          <td>324143</td>      <th>  BIC:               </th>  <td>2.932e+05</td> \n",
       "</tr>\n",
       "<tr>\n",
       "  <th>Df Model:</th>              <td>    88</td>      <th>                     </th>      <td> </td>     \n",
       "</tr>\n",
       "<tr>\n",
       "  <th>Covariance Type:</th>      <td>nonrobust</td>    <th>                     </th>      <td> </td>     \n",
       "</tr>\n",
       "</table>\n",
       "<table class=\"simpletable\">\n",
       "<tr>\n",
       "                <td></td>                  <th>coef</th>     <th>std err</th>      <th>t</th>      <th>P>|t|</th>  <th>[0.025</th>    <th>0.975]</th>  \n",
       "</tr>\n",
       "<tr>\n",
       "  <th>year</th>                         <td>    2.0846</td> <td>    0.005</td> <td>  403.578</td> <td> 0.000</td> <td>    2.074</td> <td>    2.095</td>\n",
       "</tr>\n",
       "<tr>\n",
       "  <th>cylinders</th>                    <td>    0.0895</td> <td>    0.001</td> <td>  114.100</td> <td> 0.000</td> <td>    0.088</td> <td>    0.091</td>\n",
       "</tr>\n",
       "<tr>\n",
       "  <th>odometer</th>                     <td>   -1.1268</td> <td>    0.006</td> <td> -202.530</td> <td> 0.000</td> <td>   -1.138</td> <td>   -1.116</td>\n",
       "</tr>\n",
       "<tr>\n",
       "  <th>manufacturer_acura</th>           <td>    0.2130</td> <td>    0.014</td> <td>   14.721</td> <td> 0.000</td> <td>    0.185</td> <td>    0.241</td>\n",
       "</tr>\n",
       "<tr>\n",
       "  <th>manufacturer_alfa-romeo</th>      <td>    0.5099</td> <td>    0.057</td> <td>    8.907</td> <td> 0.000</td> <td>    0.398</td> <td>    0.622</td>\n",
       "</tr>\n",
       "<tr>\n",
       "  <th>manufacturer_aston-martin</th>    <td>    1.6882</td> <td>    0.262</td> <td>    6.437</td> <td> 0.000</td> <td>    1.174</td> <td>    2.202</td>\n",
       "</tr>\n",
       "<tr>\n",
       "  <th>manufacturer_audi</th>            <td>    0.2088</td> <td>    0.014</td> <td>   14.967</td> <td> 0.000</td> <td>    0.181</td> <td>    0.236</td>\n",
       "</tr>\n",
       "<tr>\n",
       "  <th>manufacturer_bmw</th>             <td>    0.2079</td> <td>    0.013</td> <td>   15.819</td> <td> 0.000</td> <td>    0.182</td> <td>    0.234</td>\n",
       "</tr>\n",
       "<tr>\n",
       "  <th>manufacturer_buick</th>           <td>    0.0343</td> <td>    0.014</td> <td>    2.467</td> <td> 0.014</td> <td>    0.007</td> <td>    0.062</td>\n",
       "</tr>\n",
       "<tr>\n",
       "  <th>manufacturer_cadillac</th>        <td>    0.2570</td> <td>    0.014</td> <td>   18.758</td> <td> 0.000</td> <td>    0.230</td> <td>    0.284</td>\n",
       "</tr>\n",
       "<tr>\n",
       "  <th>manufacturer_chevrolet</th>       <td>    0.1318</td> <td>    0.013</td> <td>   10.386</td> <td> 0.000</td> <td>    0.107</td> <td>    0.157</td>\n",
       "</tr>\n",
       "<tr>\n",
       "  <th>manufacturer_chrysler</th>        <td>   -0.0723</td> <td>    0.014</td> <td>   -5.352</td> <td> 0.000</td> <td>   -0.099</td> <td>   -0.046</td>\n",
       "</tr>\n",
       "<tr>\n",
       "  <th>manufacturer_dodge</th>           <td>   -0.0111</td> <td>    0.013</td> <td>   -0.851</td> <td> 0.395</td> <td>   -0.037</td> <td>    0.014</td>\n",
       "</tr>\n",
       "<tr>\n",
       "  <th>manufacturer_fiat</th>            <td>   -0.3441</td> <td>    0.021</td> <td>  -16.775</td> <td> 0.000</td> <td>   -0.384</td> <td>   -0.304</td>\n",
       "</tr>\n",
       "<tr>\n",
       "  <th>manufacturer_ford</th>            <td>    0.1114</td> <td>    0.013</td> <td>    8.798</td> <td> 0.000</td> <td>    0.087</td> <td>    0.136</td>\n",
       "</tr>\n",
       "<tr>\n",
       "  <th>manufacturer_gmc</th>             <td>    0.2383</td> <td>    0.013</td> <td>   18.396</td> <td> 0.000</td> <td>    0.213</td> <td>    0.264</td>\n",
       "</tr>\n",
       "<tr>\n",
       "  <th>manufacturer_harley-davidson</th> <td>    0.1348</td> <td>    0.034</td> <td>    3.978</td> <td> 0.000</td> <td>    0.068</td> <td>    0.201</td>\n",
       "</tr>\n",
       "<tr>\n",
       "  <th>manufacturer_honda</th>           <td>    0.1218</td> <td>    0.013</td> <td>    9.456</td> <td> 0.000</td> <td>    0.097</td> <td>    0.147</td>\n",
       "</tr>\n",
       "<tr>\n",
       "  <th>manufacturer_hyundai</th>         <td>   -0.0969</td> <td>    0.013</td> <td>   -7.316</td> <td> 0.000</td> <td>   -0.123</td> <td>   -0.071</td>\n",
       "</tr>\n",
       "<tr>\n",
       "  <th>manufacturer_infiniti</th>        <td>    0.2383</td> <td>    0.015</td> <td>   16.390</td> <td> 0.000</td> <td>    0.210</td> <td>    0.267</td>\n",
       "</tr>\n",
       "<tr>\n",
       "  <th>manufacturer_jaguar</th>          <td>    0.2781</td> <td>    0.019</td> <td>   14.492</td> <td> 0.000</td> <td>    0.240</td> <td>    0.316</td>\n",
       "</tr>\n",
       "<tr>\n",
       "  <th>manufacturer_jeep</th>            <td>    0.2257</td> <td>    0.013</td> <td>   17.460</td> <td> 0.000</td> <td>    0.200</td> <td>    0.251</td>\n",
       "</tr>\n",
       "<tr>\n",
       "  <th>manufacturer_kia</th>             <td>   -0.1165</td> <td>    0.013</td> <td>   -8.636</td> <td> 0.000</td> <td>   -0.143</td> <td>   -0.090</td>\n",
       "</tr>\n",
       "<tr>\n",
       "  <th>manufacturer_land rover</th>      <td>   -0.0304</td> <td>    0.091</td> <td>   -0.335</td> <td> 0.737</td> <td>   -0.208</td> <td>    0.147</td>\n",
       "</tr>\n",
       "<tr>\n",
       "  <th>manufacturer_lexus</th>           <td>    0.4289</td> <td>    0.014</td> <td>   31.092</td> <td> 0.000</td> <td>    0.402</td> <td>    0.456</td>\n",
       "</tr>\n",
       "<tr>\n",
       "  <th>manufacturer_lincoln</th>         <td>    0.1441</td> <td>    0.015</td> <td>    9.688</td> <td> 0.000</td> <td>    0.115</td> <td>    0.173</td>\n",
       "</tr>\n",
       "<tr>\n",
       "  <th>manufacturer_mazda</th>           <td>   -0.0326</td> <td>    0.014</td> <td>   -2.338</td> <td> 0.019</td> <td>   -0.060</td> <td>   -0.005</td>\n",
       "</tr>\n",
       "<tr>\n",
       "  <th>manufacturer_mercedes-benz</th>   <td>    0.3094</td> <td>    0.013</td> <td>   23.264</td> <td> 0.000</td> <td>    0.283</td> <td>    0.335</td>\n",
       "</tr>\n",
       "<tr>\n",
       "  <th>manufacturer_mercury</th>         <td>   -0.2179</td> <td>    0.017</td> <td>  -12.590</td> <td> 0.000</td> <td>   -0.252</td> <td>   -0.184</td>\n",
       "</tr>\n",
       "<tr>\n",
       "  <th>manufacturer_mini</th>            <td>   -0.0133</td> <td>    0.016</td> <td>   -0.840</td> <td> 0.401</td> <td>   -0.044</td> <td>    0.018</td>\n",
       "</tr>\n",
       "<tr>\n",
       "  <th>manufacturer_mitsubishi</th>      <td>   -0.1437</td> <td>    0.015</td> <td>   -9.355</td> <td> 0.000</td> <td>   -0.174</td> <td>   -0.114</td>\n",
       "</tr>\n",
       "<tr>\n",
       "  <th>manufacturer_morgan</th>          <td>   -1.8049</td> <td>    0.371</td> <td>   -4.869</td> <td> 0.000</td> <td>   -2.532</td> <td>   -1.078</td>\n",
       "</tr>\n",
       "<tr>\n",
       "  <th>manufacturer_nissan</th>          <td>   -0.0460</td> <td>    0.013</td> <td>   -3.574</td> <td> 0.000</td> <td>   -0.071</td> <td>   -0.021</td>\n",
       "</tr>\n",
       "<tr>\n",
       "  <th>manufacturer_pontiac</th>         <td>   -0.1112</td> <td>    0.015</td> <td>   -7.278</td> <td> 0.000</td> <td>   -0.141</td> <td>   -0.081</td>\n",
       "</tr>\n",
       "<tr>\n",
       "  <th>manufacturer_porche</th>          <td>    0.3940</td> <td>    0.186</td> <td>    2.122</td> <td> 0.034</td> <td>    0.030</td> <td>    0.758</td>\n",
       "</tr>\n",
       "<tr>\n",
       "  <th>manufacturer_ram</th>             <td>    0.1735</td> <td>    0.013</td> <td>   13.386</td> <td> 0.000</td> <td>    0.148</td> <td>    0.199</td>\n",
       "</tr>\n",
       "<tr>\n",
       "  <th>manufacturer_rover</th>           <td>    0.3494</td> <td>    0.017</td> <td>   20.871</td> <td> 0.000</td> <td>    0.317</td> <td>    0.382</td>\n",
       "</tr>\n",
       "<tr>\n",
       "  <th>manufacturer_saturn</th>          <td>   -0.2598</td> <td>    0.017</td> <td>  -15.214</td> <td> 0.000</td> <td>   -0.293</td> <td>   -0.226</td>\n",
       "</tr>\n",
       "<tr>\n",
       "  <th>manufacturer_subaru</th>          <td>    0.1386</td> <td>    0.013</td> <td>   10.369</td> <td> 0.000</td> <td>    0.112</td> <td>    0.165</td>\n",
       "</tr>\n",
       "<tr>\n",
       "  <th>manufacturer_tesla</th>           <td>    1.3120</td> <td>    0.063</td> <td>   20.860</td> <td> 0.000</td> <td>    1.189</td> <td>    1.435</td>\n",
       "</tr>\n",
       "<tr>\n",
       "  <th>manufacturer_toyota</th>          <td>    0.2614</td> <td>    0.013</td> <td>   20.453</td> <td> 0.000</td> <td>    0.236</td> <td>    0.286</td>\n",
       "</tr>\n",
       "<tr>\n",
       "  <th>manufacturer_unknown</th>         <td>    0.1755</td> <td>    0.013</td> <td>   13.423</td> <td> 0.000</td> <td>    0.150</td> <td>    0.201</td>\n",
       "</tr>\n",
       "<tr>\n",
       "  <th>manufacturer_volkswagen</th>      <td>   -0.1557</td> <td>    0.013</td> <td>  -11.642</td> <td> 0.000</td> <td>   -0.182</td> <td>   -0.129</td>\n",
       "</tr>\n",
       "<tr>\n",
       "  <th>manufacturer_volvo</th>           <td>    0.0063</td> <td>    0.015</td> <td>    0.412</td> <td> 0.680</td> <td>   -0.024</td> <td>    0.036</td>\n",
       "</tr>\n",
       "<tr>\n",
       "  <th>condition_excellent</th>          <td>    0.8693</td> <td>    0.008</td> <td>  111.707</td> <td> 0.000</td> <td>    0.854</td> <td>    0.885</td>\n",
       "</tr>\n",
       "<tr>\n",
       "  <th>condition_fair</th>               <td>    0.7855</td> <td>    0.008</td> <td>   94.078</td> <td> 0.000</td> <td>    0.769</td> <td>    0.802</td>\n",
       "</tr>\n",
       "<tr>\n",
       "  <th>condition_good</th>               <td>    0.7748</td> <td>    0.008</td> <td>   99.407</td> <td> 0.000</td> <td>    0.760</td> <td>    0.790</td>\n",
       "</tr>\n",
       "<tr>\n",
       "  <th>condition_like new</th>           <td>    0.8798</td> <td>    0.008</td> <td>  111.913</td> <td> 0.000</td> <td>    0.864</td> <td>    0.895</td>\n",
       "</tr>\n",
       "<tr>\n",
       "  <th>condition_new</th>                <td>    0.7195</td> <td>    0.016</td> <td>   46.042</td> <td> 0.000</td> <td>    0.689</td> <td>    0.750</td>\n",
       "</tr>\n",
       "<tr>\n",
       "  <th>condition_salvage</th>            <td>    0.8069</td> <td>    0.008</td> <td>  101.937</td> <td> 0.000</td> <td>    0.791</td> <td>    0.822</td>\n",
       "</tr>\n",
       "<tr>\n",
       "  <th>fuel_diesel</th>                  <td>    1.4900</td> <td>    0.010</td> <td>  153.108</td> <td> 0.000</td> <td>    1.471</td> <td>    1.509</td>\n",
       "</tr>\n",
       "<tr>\n",
       "  <th>fuel_electric</th>                <td>    0.5992</td> <td>    0.018</td> <td>   34.030</td> <td> 0.000</td> <td>    0.565</td> <td>    0.634</td>\n",
       "</tr>\n",
       "<tr>\n",
       "  <th>fuel_gas</th>                     <td>    0.8705</td> <td>    0.009</td> <td>   91.746</td> <td> 0.000</td> <td>    0.852</td> <td>    0.889</td>\n",
       "</tr>\n",
       "<tr>\n",
       "  <th>fuel_hybrid</th>                  <td>    0.8853</td> <td>    0.011</td> <td>   79.354</td> <td> 0.000</td> <td>    0.863</td> <td>    0.907</td>\n",
       "</tr>\n",
       "<tr>\n",
       "  <th>fuel_other</th>                   <td>    0.9909</td> <td>    0.010</td> <td>   99.220</td> <td> 0.000</td> <td>    0.971</td> <td>    1.010</td>\n",
       "</tr>\n",
       "<tr>\n",
       "  <th>title_status_clean</th>           <td>    1.7997</td> <td>    0.015</td> <td>  122.038</td> <td> 0.000</td> <td>    1.771</td> <td>    1.829</td>\n",
       "</tr>\n",
       "<tr>\n",
       "  <th>title_status_rebuilt</th>         <td>    1.5730</td> <td>    0.015</td> <td>  104.632</td> <td> 0.000</td> <td>    1.544</td> <td>    1.603</td>\n",
       "</tr>\n",
       "<tr>\n",
       "  <th>title_status_salvage</th>         <td>    1.4631</td> <td>    0.015</td> <td>   95.215</td> <td> 0.000</td> <td>    1.433</td> <td>    1.493</td>\n",
       "</tr>\n",
       "<tr>\n",
       "  <th>transmission_automatic</th>       <td>    1.5496</td> <td>    0.015</td> <td>  105.501</td> <td> 0.000</td> <td>    1.521</td> <td>    1.578</td>\n",
       "</tr>\n",
       "<tr>\n",
       "  <th>transmission_manual</th>          <td>    1.6878</td> <td>    0.015</td> <td>  114.156</td> <td> 0.000</td> <td>    1.659</td> <td>    1.717</td>\n",
       "</tr>\n",
       "<tr>\n",
       "  <th>transmission_other</th>           <td>    1.5986</td> <td>    0.015</td> <td>  106.857</td> <td> 0.000</td> <td>    1.569</td> <td>    1.628</td>\n",
       "</tr>\n",
       "<tr>\n",
       "  <th>drive_1wd</th>                    <td>    0.6374</td> <td>    0.131</td> <td>    4.848</td> <td> 0.000</td> <td>    0.380</td> <td>    0.895</td>\n",
       "</tr>\n",
       "<tr>\n",
       "  <th>drive_2wd</th>                    <td>    0.5549</td> <td>    0.063</td> <td>    8.825</td> <td> 0.000</td> <td>    0.432</td> <td>    0.678</td>\n",
       "</tr>\n",
       "<tr>\n",
       "  <th>drive_3wd</th>                    <td>    0.2278</td> <td>    0.333</td> <td>    0.685</td> <td> 0.494</td> <td>   -0.424</td> <td>    0.880</td>\n",
       "</tr>\n",
       "<tr>\n",
       "  <th>drive_4wd</th>                    <td>    0.6793</td> <td>    0.063</td> <td>   10.804</td> <td> 0.000</td> <td>    0.556</td> <td>    0.803</td>\n",
       "</tr>\n",
       "<tr>\n",
       "  <th>drive_5wd</th>                    <td>    0.9346</td> <td>    0.199</td> <td>    4.703</td> <td> 0.000</td> <td>    0.545</td> <td>    1.324</td>\n",
       "</tr>\n",
       "<tr>\n",
       "  <th>drive_6wd</th>                    <td>    0.9042</td> <td>    0.131</td> <td>    6.876</td> <td> 0.000</td> <td>    0.646</td> <td>    1.162</td>\n",
       "</tr>\n",
       "<tr>\n",
       "  <th>drive_7wd</th>                    <td>    0.8976</td> <td>    0.085</td> <td>   10.512</td> <td> 0.000</td> <td>    0.730</td> <td>    1.065</td>\n",
       "</tr>\n",
       "<tr>\n",
       "  <th>type_SUV</th>                     <td>    0.3294</td> <td>    0.004</td> <td>   81.648</td> <td> 0.000</td> <td>    0.321</td> <td>    0.337</td>\n",
       "</tr>\n",
       "<tr>\n",
       "  <th>type_bus</th>                     <td>    0.3551</td> <td>    0.006</td> <td>   55.941</td> <td> 0.000</td> <td>    0.343</td> <td>    0.368</td>\n",
       "</tr>\n",
       "<tr>\n",
       "  <th>type_convertible</th>             <td>    0.5151</td> <td>    0.006</td> <td>   84.006</td> <td> 0.000</td> <td>    0.503</td> <td>    0.527</td>\n",
       "</tr>\n",
       "<tr>\n",
       "  <th>type_coupe</th>                   <td>    0.3742</td> <td>    0.005</td> <td>   74.891</td> <td> 0.000</td> <td>    0.364</td> <td>    0.384</td>\n",
       "</tr>\n",
       "<tr>\n",
       "  <th>type_hatchback</th>               <td>    0.0996</td> <td>    0.005</td> <td>   18.657</td> <td> 0.000</td> <td>    0.089</td> <td>    0.110</td>\n",
       "</tr>\n",
       "<tr>\n",
       "  <th>type_mini-van</th>                <td>    0.2174</td> <td>    0.007</td> <td>   33.431</td> <td> 0.000</td> <td>    0.205</td> <td>    0.230</td>\n",
       "</tr>\n",
       "<tr>\n",
       "  <th>type_offroad</th>                 <td>    0.6412</td> <td>    0.016</td> <td>   40.498</td> <td> 0.000</td> <td>    0.610</td> <td>    0.672</td>\n",
       "</tr>\n",
       "<tr>\n",
       "  <th>type_other</th>                   <td>    0.4134</td> <td>    0.005</td> <td>   75.255</td> <td> 0.000</td> <td>    0.403</td> <td>    0.424</td>\n",
       "</tr>\n",
       "<tr>\n",
       "  <th>type_pickup</th>                  <td>    0.5988</td> <td>    0.004</td> <td>  138.960</td> <td> 0.000</td> <td>    0.590</td> <td>    0.607</td>\n",
       "</tr>\n",
       "<tr>\n",
       "  <th>type_sedan</th>                   <td>    0.1266</td> <td>    0.004</td> <td>   32.657</td> <td> 0.000</td> <td>    0.119</td> <td>    0.134</td>\n",
       "</tr>\n",
       "<tr>\n",
       "  <th>type_truck</th>                   <td>    0.5516</td> <td>    0.004</td> <td>  131.052</td> <td> 0.000</td> <td>    0.543</td> <td>    0.560</td>\n",
       "</tr>\n",
       "<tr>\n",
       "  <th>type_van</th>                     <td>    0.3439</td> <td>    0.005</td> <td>   74.547</td> <td> 0.000</td> <td>    0.335</td> <td>    0.353</td>\n",
       "</tr>\n",
       "<tr>\n",
       "  <th>type_wagon</th>                   <td>    0.2695</td> <td>    0.005</td> <td>   49.100</td> <td> 0.000</td> <td>    0.259</td> <td>    0.280</td>\n",
       "</tr>\n",
       "<tr>\n",
       "  <th>paint_color_black</th>            <td>    0.4340</td> <td>    0.004</td> <td>   96.872</td> <td> 0.000</td> <td>    0.425</td> <td>    0.443</td>\n",
       "</tr>\n",
       "<tr>\n",
       "  <th>paint_color_blue</th>             <td>    0.3753</td> <td>    0.005</td> <td>   78.764</td> <td> 0.000</td> <td>    0.366</td> <td>    0.385</td>\n",
       "</tr>\n",
       "<tr>\n",
       "  <th>paint_color_brown</th>            <td>    0.3690</td> <td>    0.006</td> <td>   57.010</td> <td> 0.000</td> <td>    0.356</td> <td>    0.382</td>\n",
       "</tr>\n",
       "<tr>\n",
       "  <th>paint_color_custom</th>           <td>    0.4344</td> <td>    0.006</td> <td>   70.733</td> <td> 0.000</td> <td>    0.422</td> <td>    0.446</td>\n",
       "</tr>\n",
       "<tr>\n",
       "  <th>paint_color_green</th>            <td>    0.3832</td> <td>    0.006</td> <td>   61.292</td> <td> 0.000</td> <td>    0.371</td> <td>    0.395</td>\n",
       "</tr>\n",
       "<tr>\n",
       "  <th>paint_color_grey</th>             <td>    0.3771</td> <td>    0.005</td> <td>   78.757</td> <td> 0.000</td> <td>    0.368</td> <td>    0.386</td>\n",
       "</tr>\n",
       "<tr>\n",
       "  <th>paint_color_orange</th>           <td>    0.4654</td> <td>    0.011</td> <td>   43.350</td> <td> 0.000</td> <td>    0.444</td> <td>    0.486</td>\n",
       "</tr>\n",
       "<tr>\n",
       "  <th>paint_color_purple</th>           <td>    0.3624</td> <td>    0.016</td> <td>   22.041</td> <td> 0.000</td> <td>    0.330</td> <td>    0.395</td>\n",
       "</tr>\n",
       "<tr>\n",
       "  <th>paint_color_red</th>              <td>    0.4000</td> <td>    0.005</td> <td>   83.734</td> <td> 0.000</td> <td>    0.391</td> <td>    0.409</td>\n",
       "</tr>\n",
       "<tr>\n",
       "  <th>paint_color_silver</th>           <td>    0.3694</td> <td>    0.005</td> <td>   80.734</td> <td> 0.000</td> <td>    0.360</td> <td>    0.378</td>\n",
       "</tr>\n",
       "<tr>\n",
       "  <th>paint_color_white</th>            <td>    0.4002</td> <td>    0.004</td> <td>   93.496</td> <td> 0.000</td> <td>    0.392</td> <td>    0.409</td>\n",
       "</tr>\n",
       "<tr>\n",
       "  <th>paint_color_yellow</th>           <td>    0.4655</td> <td>    0.010</td> <td>   46.130</td> <td> 0.000</td> <td>    0.446</td> <td>    0.485</td>\n",
       "</tr>\n",
       "<tr>\n",
       "  <th>state_midwest</th>                <td>    1.1905</td> <td>    0.011</td> <td>  108.023</td> <td> 0.000</td> <td>    1.169</td> <td>    1.212</td>\n",
       "</tr>\n",
       "<tr>\n",
       "  <th>state_northeast</th>              <td>    1.1309</td> <td>    0.011</td> <td>  102.383</td> <td> 0.000</td> <td>    1.109</td> <td>    1.153</td>\n",
       "</tr>\n",
       "<tr>\n",
       "  <th>state_south</th>                  <td>    1.2191</td> <td>    0.011</td> <td>  110.750</td> <td> 0.000</td> <td>    1.198</td> <td>    1.241</td>\n",
       "</tr>\n",
       "<tr>\n",
       "  <th>state_west</th>                   <td>    1.2955</td> <td>    0.011</td> <td>  117.678</td> <td> 0.000</td> <td>    1.274</td> <td>    1.317</td>\n",
       "</tr>\n",
       "</table>\n",
       "<table class=\"simpletable\">\n",
       "<tr>\n",
       "  <th>Omnibus:</th>       <td>22590.937</td> <th>  Durbin-Watson:     </th>  <td>   2.000</td> \n",
       "</tr>\n",
       "<tr>\n",
       "  <th>Prob(Omnibus):</th>  <td> 0.000</td>   <th>  Jarque-Bera (JB):  </th> <td>110195.447</td>\n",
       "</tr>\n",
       "<tr>\n",
       "  <th>Skew:</th>           <td>-0.131</td>   <th>  Prob(JB):          </th>  <td>    0.00</td> \n",
       "</tr>\n",
       "<tr>\n",
       "  <th>Kurtosis:</th>       <td> 5.844</td>   <th>  Cond. No.          </th>  <td>1.07e+16</td> \n",
       "</tr>\n",
       "</table><br/><br/>Warnings:<br/>[1] Standard Errors assume that the covariance matrix of the errors is correctly specified.<br/>[2] The smallest eigenvalue is 8.08e-26. This might indicate that there are<br/>strong multicollinearity problems or that the design matrix is singular."
      ],
      "text/plain": [
       "<class 'statsmodels.iolib.summary.Summary'>\n",
       "\"\"\"\n",
       "                            OLS Regression Results                            \n",
       "==============================================================================\n",
       "Dep. Variable:                  price   R-squared:                       0.730\n",
       "Model:                            OLS   Adj. R-squared:                  0.730\n",
       "Method:                 Least Squares   F-statistic:                     9967.\n",
       "Date:                Sun, 19 Apr 2020   Prob (F-statistic):               0.00\n",
       "Time:                        00:49:38   Log-Likelihood:            -1.4602e+05\n",
       "No. Observations:              324232   AIC:                         2.922e+05\n",
       "Df Residuals:                  324143   BIC:                         2.932e+05\n",
       "Df Model:                          88                                         \n",
       "Covariance Type:            nonrobust                                         \n",
       "================================================================================================\n",
       "                                   coef    std err          t      P>|t|      [0.025      0.975]\n",
       "------------------------------------------------------------------------------------------------\n",
       "year                             2.0846      0.005    403.578      0.000       2.074       2.095\n",
       "cylinders                        0.0895      0.001    114.100      0.000       0.088       0.091\n",
       "odometer                        -1.1268      0.006   -202.530      0.000      -1.138      -1.116\n",
       "manufacturer_acura               0.2130      0.014     14.721      0.000       0.185       0.241\n",
       "manufacturer_alfa-romeo          0.5099      0.057      8.907      0.000       0.398       0.622\n",
       "manufacturer_aston-martin        1.6882      0.262      6.437      0.000       1.174       2.202\n",
       "manufacturer_audi                0.2088      0.014     14.967      0.000       0.181       0.236\n",
       "manufacturer_bmw                 0.2079      0.013     15.819      0.000       0.182       0.234\n",
       "manufacturer_buick               0.0343      0.014      2.467      0.014       0.007       0.062\n",
       "manufacturer_cadillac            0.2570      0.014     18.758      0.000       0.230       0.284\n",
       "manufacturer_chevrolet           0.1318      0.013     10.386      0.000       0.107       0.157\n",
       "manufacturer_chrysler           -0.0723      0.014     -5.352      0.000      -0.099      -0.046\n",
       "manufacturer_dodge              -0.0111      0.013     -0.851      0.395      -0.037       0.014\n",
       "manufacturer_fiat               -0.3441      0.021    -16.775      0.000      -0.384      -0.304\n",
       "manufacturer_ford                0.1114      0.013      8.798      0.000       0.087       0.136\n",
       "manufacturer_gmc                 0.2383      0.013     18.396      0.000       0.213       0.264\n",
       "manufacturer_harley-davidson     0.1348      0.034      3.978      0.000       0.068       0.201\n",
       "manufacturer_honda               0.1218      0.013      9.456      0.000       0.097       0.147\n",
       "manufacturer_hyundai            -0.0969      0.013     -7.316      0.000      -0.123      -0.071\n",
       "manufacturer_infiniti            0.2383      0.015     16.390      0.000       0.210       0.267\n",
       "manufacturer_jaguar              0.2781      0.019     14.492      0.000       0.240       0.316\n",
       "manufacturer_jeep                0.2257      0.013     17.460      0.000       0.200       0.251\n",
       "manufacturer_kia                -0.1165      0.013     -8.636      0.000      -0.143      -0.090\n",
       "manufacturer_land rover         -0.0304      0.091     -0.335      0.737      -0.208       0.147\n",
       "manufacturer_lexus               0.4289      0.014     31.092      0.000       0.402       0.456\n",
       "manufacturer_lincoln             0.1441      0.015      9.688      0.000       0.115       0.173\n",
       "manufacturer_mazda              -0.0326      0.014     -2.338      0.019      -0.060      -0.005\n",
       "manufacturer_mercedes-benz       0.3094      0.013     23.264      0.000       0.283       0.335\n",
       "manufacturer_mercury            -0.2179      0.017    -12.590      0.000      -0.252      -0.184\n",
       "manufacturer_mini               -0.0133      0.016     -0.840      0.401      -0.044       0.018\n",
       "manufacturer_mitsubishi         -0.1437      0.015     -9.355      0.000      -0.174      -0.114\n",
       "manufacturer_morgan             -1.8049      0.371     -4.869      0.000      -2.532      -1.078\n",
       "manufacturer_nissan             -0.0460      0.013     -3.574      0.000      -0.071      -0.021\n",
       "manufacturer_pontiac            -0.1112      0.015     -7.278      0.000      -0.141      -0.081\n",
       "manufacturer_porche              0.3940      0.186      2.122      0.034       0.030       0.758\n",
       "manufacturer_ram                 0.1735      0.013     13.386      0.000       0.148       0.199\n",
       "manufacturer_rover               0.3494      0.017     20.871      0.000       0.317       0.382\n",
       "manufacturer_saturn             -0.2598      0.017    -15.214      0.000      -0.293      -0.226\n",
       "manufacturer_subaru              0.1386      0.013     10.369      0.000       0.112       0.165\n",
       "manufacturer_tesla               1.3120      0.063     20.860      0.000       1.189       1.435\n",
       "manufacturer_toyota              0.2614      0.013     20.453      0.000       0.236       0.286\n",
       "manufacturer_unknown             0.1755      0.013     13.423      0.000       0.150       0.201\n",
       "manufacturer_volkswagen         -0.1557      0.013    -11.642      0.000      -0.182      -0.129\n",
       "manufacturer_volvo               0.0063      0.015      0.412      0.680      -0.024       0.036\n",
       "condition_excellent              0.8693      0.008    111.707      0.000       0.854       0.885\n",
       "condition_fair                   0.7855      0.008     94.078      0.000       0.769       0.802\n",
       "condition_good                   0.7748      0.008     99.407      0.000       0.760       0.790\n",
       "condition_like new               0.8798      0.008    111.913      0.000       0.864       0.895\n",
       "condition_new                    0.7195      0.016     46.042      0.000       0.689       0.750\n",
       "condition_salvage                0.8069      0.008    101.937      0.000       0.791       0.822\n",
       "fuel_diesel                      1.4900      0.010    153.108      0.000       1.471       1.509\n",
       "fuel_electric                    0.5992      0.018     34.030      0.000       0.565       0.634\n",
       "fuel_gas                         0.8705      0.009     91.746      0.000       0.852       0.889\n",
       "fuel_hybrid                      0.8853      0.011     79.354      0.000       0.863       0.907\n",
       "fuel_other                       0.9909      0.010     99.220      0.000       0.971       1.010\n",
       "title_status_clean               1.7997      0.015    122.038      0.000       1.771       1.829\n",
       "title_status_rebuilt             1.5730      0.015    104.632      0.000       1.544       1.603\n",
       "title_status_salvage             1.4631      0.015     95.215      0.000       1.433       1.493\n",
       "transmission_automatic           1.5496      0.015    105.501      0.000       1.521       1.578\n",
       "transmission_manual              1.6878      0.015    114.156      0.000       1.659       1.717\n",
       "transmission_other               1.5986      0.015    106.857      0.000       1.569       1.628\n",
       "drive_1wd                        0.6374      0.131      4.848      0.000       0.380       0.895\n",
       "drive_2wd                        0.5549      0.063      8.825      0.000       0.432       0.678\n",
       "drive_3wd                        0.2278      0.333      0.685      0.494      -0.424       0.880\n",
       "drive_4wd                        0.6793      0.063     10.804      0.000       0.556       0.803\n",
       "drive_5wd                        0.9346      0.199      4.703      0.000       0.545       1.324\n",
       "drive_6wd                        0.9042      0.131      6.876      0.000       0.646       1.162\n",
       "drive_7wd                        0.8976      0.085     10.512      0.000       0.730       1.065\n",
       "type_SUV                         0.3294      0.004     81.648      0.000       0.321       0.337\n",
       "type_bus                         0.3551      0.006     55.941      0.000       0.343       0.368\n",
       "type_convertible                 0.5151      0.006     84.006      0.000       0.503       0.527\n",
       "type_coupe                       0.3742      0.005     74.891      0.000       0.364       0.384\n",
       "type_hatchback                   0.0996      0.005     18.657      0.000       0.089       0.110\n",
       "type_mini-van                    0.2174      0.007     33.431      0.000       0.205       0.230\n",
       "type_offroad                     0.6412      0.016     40.498      0.000       0.610       0.672\n",
       "type_other                       0.4134      0.005     75.255      0.000       0.403       0.424\n",
       "type_pickup                      0.5988      0.004    138.960      0.000       0.590       0.607\n",
       "type_sedan                       0.1266      0.004     32.657      0.000       0.119       0.134\n",
       "type_truck                       0.5516      0.004    131.052      0.000       0.543       0.560\n",
       "type_van                         0.3439      0.005     74.547      0.000       0.335       0.353\n",
       "type_wagon                       0.2695      0.005     49.100      0.000       0.259       0.280\n",
       "paint_color_black                0.4340      0.004     96.872      0.000       0.425       0.443\n",
       "paint_color_blue                 0.3753      0.005     78.764      0.000       0.366       0.385\n",
       "paint_color_brown                0.3690      0.006     57.010      0.000       0.356       0.382\n",
       "paint_color_custom               0.4344      0.006     70.733      0.000       0.422       0.446\n",
       "paint_color_green                0.3832      0.006     61.292      0.000       0.371       0.395\n",
       "paint_color_grey                 0.3771      0.005     78.757      0.000       0.368       0.386\n",
       "paint_color_orange               0.4654      0.011     43.350      0.000       0.444       0.486\n",
       "paint_color_purple               0.3624      0.016     22.041      0.000       0.330       0.395\n",
       "paint_color_red                  0.4000      0.005     83.734      0.000       0.391       0.409\n",
       "paint_color_silver               0.3694      0.005     80.734      0.000       0.360       0.378\n",
       "paint_color_white                0.4002      0.004     93.496      0.000       0.392       0.409\n",
       "paint_color_yellow               0.4655      0.010     46.130      0.000       0.446       0.485\n",
       "state_midwest                    1.1905      0.011    108.023      0.000       1.169       1.212\n",
       "state_northeast                  1.1309      0.011    102.383      0.000       1.109       1.153\n",
       "state_south                      1.2191      0.011    110.750      0.000       1.198       1.241\n",
       "state_west                       1.2955      0.011    117.678      0.000       1.274       1.317\n",
       "==============================================================================\n",
       "Omnibus:                    22590.937   Durbin-Watson:                   2.000\n",
       "Prob(Omnibus):                  0.000   Jarque-Bera (JB):           110195.447\n",
       "Skew:                          -0.131   Prob(JB):                         0.00\n",
       "Kurtosis:                       5.844   Cond. No.                     1.07e+16\n",
       "==============================================================================\n",
       "\n",
       "Warnings:\n",
       "[1] Standard Errors assume that the covariance matrix of the errors is correctly specified.\n",
       "[2] The smallest eigenvalue is 8.08e-26. This might indicate that there are\n",
       "strong multicollinearity problems or that the design matrix is singular.\n",
       "\"\"\""
      ]
     },
     "execution_count": 21,
     "metadata": {},
     "output_type": "execute_result"
    }
   ],
   "source": [
    "# fitting the linear regression kdel using stats model\n",
    "X_fill_train = sm.add_constant(xx_train)\n",
    "lreg_fill1 = sm.OLS(y_train,xx_train).fit()\n",
    "lreg_fill1.summary()"
   ]
  },
  {
   "cell_type": "markdown",
   "metadata": {},
   "source": [
    "### Ridge"
   ]
  },
  {
   "cell_type": "code",
   "execution_count": 22,
   "metadata": {},
   "outputs": [
    {
     "name": "stdout",
     "output_type": "stream",
     "text": [
      "The best value of Alpha is:  {'alpha': 1}\n",
      "The best score achieved with Alpha=11 is:  0.3797468186397476\n"
     ]
    }
   ],
   "source": [
    "# hyper-paramter tuning to find the optimum alpha\n",
    "import sklearn.model_selection as GridSearchCV\n",
    "from sklearn.linear_model import Ridge\n",
    "\n",
    "ridge=Ridge()\n",
    "parameters= {'alpha':[x for x in range(1,101)]}\n",
    "\n",
    "ridge_reg=ms.GridSearchCV(ridge, param_grid=parameters, scoring='neg_mean_squared_error', cv=15)\n",
    "ridge_reg.fit(xx_train,y_train)\n",
    "print(\"The best value of Alpha is: \",ridge_reg.best_params_)\n",
    "print(\"The best score achieved with Alpha=11 is: \",math.sqrt(-ridge_reg.best_score_))\n",
    "ridge_pred=math.sqrt(-ridge_reg.best_score_)"
   ]
  },
  {
   "cell_type": "code",
   "execution_count": 23,
   "metadata": {},
   "outputs": [
    {
     "name": "stdout",
     "output_type": "stream",
     "text": [
      "Root Mean Square Error train = 0.3796592179248665\n",
      "Root Mean Square Error test = 0.37881331195293727\n"
     ]
    }
   ],
   "source": [
    "# training the ridge regression model with alpha = 1 - regulirization\n",
    "\n",
    "from sklearn.linear_model import Ridge\n",
    "ridge_mod=Ridge(alpha=10)\n",
    "ridge_mod.fit(xx_train,y_train)\n",
    "y_pred_train_ridge=ridge_mod.predict(xx_train)\n",
    "y_pred_test_ridge=ridge_mod.predict(xx_test)\n",
    "\n",
    "print('Root Mean Square Error train = ' + str(math.sqrt(sklm.mean_squared_error(y_train, y_pred_train_ridge))))\n",
    "print('Root Mean Square Error test = ' + str(math.sqrt(sklm.mean_squared_error(y_test, y_pred_test_ridge)))) "
   ]
  },
  {
   "cell_type": "code",
   "execution_count": 24,
   "metadata": {},
   "outputs": [
    {
     "name": "stdout",
     "output_type": "stream",
     "text": [
      "Root Mean Square Error train = 0.37962478658504784\n",
      "Root Mean Square Error test = 0.3787579839921529\n"
     ]
    }
   ],
   "source": [
    "# training the ridge regression model with alpha = 10 - regulirization\n",
    "\n",
    "ridge_mod=Ridge(alpha=1)\n",
    "ridge_mod.fit(xx_train,y_train)\n",
    "y_pred_train_ridge=ridge_mod.predict(xx_train)\n",
    "y_pred_test_ridge=ridge_mod.predict(xx_test)\n",
    "\n",
    "print('Root Mean Square Error train = ' + str(math.sqrt(sklm.mean_squared_error(y_train, y_pred_train_ridge))))\n",
    "print('Root Mean Square Error test = ' + str(math.sqrt(sklm.mean_squared_error(y_test, y_pred_test_ridge)))) "
   ]
  },
  {
   "cell_type": "code",
   "execution_count": 54,
   "metadata": {},
   "outputs": [],
   "source": [
    "# inserting the caculated metrics for latter analysis\n",
    "\n",
    "acc_train_rmse.insert(3, round(np.sqrt(metrics.mean_squared_error(y_train, y_pred_train)),2))\n",
    "acc_test_rmse.insert(3, round(np.sqrt(metrics.mean_squared_error(y_test, y_pred_test)),2))\n",
    "acc_test_r2.insert(3,ridge_mod.score(xx_test, y_test))\n",
    "acc_train_r2.insert(3,ridge_mod.score(xx_train, y_train))"
   ]
  },
  {
   "cell_type": "markdown",
   "metadata": {},
   "source": [
    "### LASSO"
   ]
  },
  {
   "cell_type": "code",
   "execution_count": 26,
   "metadata": {},
   "outputs": [
    {
     "name": "stdout",
     "output_type": "stream",
     "text": [
      "The best value of Alpha is:  {'alpha': 0.0001}\n"
     ]
    }
   ],
   "source": [
    "# hyper-paramter tuning to find the optimum alpha\n",
    "\n",
    "from sklearn.linear_model import Lasso\n",
    "\n",
    "parameters= {'alpha':[0.0001,0.0009,0.001,0.002,0.003,0.01,0.1,1,10,100]}\n",
    "\n",
    "lasso=Lasso()\n",
    "lasso_reg=ms.GridSearchCV(lasso, param_grid=parameters, scoring='neg_mean_squared_error', cv=15)\n",
    "lasso_reg.fit(xx_train,y_train)\n",
    "\n",
    "print('The best value of Alpha is: ',lasso_reg.best_params_)\n"
   ]
  },
  {
   "cell_type": "code",
   "execution_count": 27,
   "metadata": {},
   "outputs": [
    {
     "data": {
      "text/plain": [
       "Lasso(alpha=0.0001, copy_X=True, fit_intercept=True, max_iter=1000,\n",
       "      normalize=False, positive=False, precompute=False, random_state=None,\n",
       "      selection='cyclic', tol=0.0001, warm_start=False)"
      ]
     },
     "execution_count": 27,
     "metadata": {},
     "output_type": "execute_result"
    }
   ],
   "source": [
    "# training the lasso regression model with alpha = 0.0001 - regulirization\n",
    "\n",
    "from sklearn.linear_model import Lasso\n",
    "\n",
    "lasso_mod=Lasso(alpha=0.0001)\n",
    "lasso_mod.fit(xx_train,y_train)"
   ]
  },
  {
   "cell_type": "code",
   "execution_count": 28,
   "metadata": {},
   "outputs": [
    {
     "name": "stdout",
     "output_type": "stream",
     "text": [
      "Root Mean Square Error train = 0.37992298097850474\n",
      "Root Mean Square Error test = 0.37906129567918456\n"
     ]
    }
   ],
   "source": [
    "# prediciting the metrics\n",
    "y_lasso_train=lasso_mod.predict(xx_train)\n",
    "y_lasso_test=lasso_mod.predict(xx_test)\n",
    "\n",
    "print('Root Mean Square Error train = ' + str(math.sqrt(sklm.mean_squared_error(y_train, y_lasso_train))))\n",
    "print('Root Mean Square Error test = ' + str(math.sqrt(sklm.mean_squared_error(y_test, y_lasso_test))))"
   ]
  },
  {
   "cell_type": "code",
   "execution_count": 55,
   "metadata": {},
   "outputs": [],
   "source": [
    "# inserting the caculated metrics for latter analysis\n",
    "\n",
    "acc_train_rmse.insert(4, round(np.sqrt(metrics.mean_squared_error(y_train, y_lasso_train)),2))\n",
    "acc_test_rmse.insert(4, round(np.sqrt(metrics.mean_squared_error(y_test, y_lasso_test)),2))\n",
    "acc_test_r2.insert(4,lasso_mod.score(xx_test, y_test))\n",
    "acc_train_r2.insert(4,lasso_mod.score(xx_train, y_train))"
   ]
  },
  {
   "cell_type": "markdown",
   "metadata": {},
   "source": [
    "### Bagging Regressor"
   ]
  },
  {
   "cell_type": "code",
   "execution_count": 30,
   "metadata": {},
   "outputs": [],
   "source": [
    "from sklearn.ensemble import BaggingRegressor, AdaBoostRegressor\n",
    "# train the bagging regressor model\n",
    "\n",
    "bagging = BaggingRegressor()\n",
    "bag_mod = bagging.fit(xx_train,y_train)"
   ]
  },
  {
   "cell_type": "code",
   "execution_count": 31,
   "metadata": {},
   "outputs": [
    {
     "name": "stdout",
     "output_type": "stream",
     "text": [
      "Root Mean Square Error test = 0.28366721716455967\n",
      "Root Mean Square Error train = 0.14758495746998565\n"
     ]
    }
   ],
   "source": [
    "#Bagging Regressor to predict the final Test\n",
    "bag_test = bag_mod.predict(xx_test)\n",
    "bag_train = bag_mod.predict(xx_train)\n",
    "\n",
    "print('Root Mean Square Error test = ' + str(math.sqrt(sklm.mean_squared_error(y_test, bag_test))))\n",
    "print('Root Mean Square Error train = ' + str(math.sqrt(sklm.mean_squared_error(y_train, bag_train))))"
   ]
  },
  {
   "cell_type": "code",
   "execution_count": 56,
   "metadata": {},
   "outputs": [],
   "source": [
    "acc_train_rmse.insert(5, round(np.sqrt(metrics.mean_squared_error(y_train, bag_train)),2))\n",
    "acc_test_rmse.insert(5, round(np.sqrt(metrics.mean_squared_error(y_test, bag_test)),2))\n",
    "acc_test_r2.insert(5,bag_mod.score(xx_test, y_test))\n",
    "acc_train_r2.insert(5,bag_mod.score(xx_train, y_train))"
   ]
  },
  {
   "cell_type": "markdown",
   "metadata": {},
   "source": [
    "### AVERAGING THE REGRESSORS"
   ]
  },
  {
   "cell_type": "code",
   "execution_count": 33,
   "metadata": {},
   "outputs": [],
   "source": [
    "# Averaging the regressor models/ bLendig the best models\n",
    "\n",
    "#GradientBoosting Regressor to predict the final Test\n",
    "gb_test = gb_model.predict(xx_test)\n",
    "gb_train = gb_model.predict(xx_train)\n",
    "#final1=np.expm1(gb_test)\n",
    "\n",
    "# RandomForest Regressor to predict the final Test\n",
    "rf_test = regressor.predict(xx_test)\n",
    "rf_train = regressor.predict(xx_train)\n",
    "#final2=np.expm1(rf_test)\n",
    "\n",
    "#LassoRegressor to predict the final Test\n",
    "lasso_train = lasso_mod.predict(xx_train)\n",
    "lasso_test = lasso_mod.predict(xx_test)\n",
    "#final3=np.expm1(lasso_test)\n",
    "\n",
    "#Bagging Regressor to predict the final Test\n",
    "bag_test = bag_mod.predict(xx_test)\n",
    "bag_train = bag_mod.predict(xx_train)"
   ]
  },
  {
   "cell_type": "code",
   "execution_count": 73,
   "metadata": {},
   "outputs": [
    {
     "name": "stdout",
     "output_type": "stream",
     "text": [
      "Root Mean Square Error test = 0.2693997975401083\n",
      "Root Mean Square Error train = 0.16570418494985867\n"
     ]
    }
   ],
   "source": [
    "#Submission of the results predicted by the average of Voting/Stacking/Lasso\n",
    "final_test=(0.3*rf_test+0.3*gb_test+0.4*bag_test )\n",
    "final_train = (0.3*rf_train+0.3*gb_train +0.4*bag_train)\n",
    "print('Root Mean Square Error test = ' + str(math.sqrt(sklm.mean_squared_error(y_test, final_test))))\n",
    "print('Root Mean Square Error train = ' + str(math.sqrt(sklm.mean_squared_error(y_train, final_train))))"
   ]
  },
  {
   "cell_type": "code",
   "execution_count": 57,
   "metadata": {},
   "outputs": [],
   "source": [
    "acc_train_rmse.insert(6, round(np.sqrt(metrics.mean_squared_error(y_train, final_train)),2))\n",
    "acc_test_rmse.insert(6, round(np.sqrt(metrics.mean_squared_error(y_test, final_test)),2))"
   ]
  },
  {
   "cell_type": "code",
   "execution_count": 58,
   "metadata": {},
   "outputs": [],
   "source": [
    "acc_train_r2.insert(6,0.3*acc_train_r2[1]+0.3*acc_train_r2[0]+0.4*acc_train_r2[5])\n",
    "acc_test_r2.insert(6,0.3*acc_test_r2[1]+0.3*acc_test_r2[0]+0.4*acc_test_r2[5])"
   ]
  },
  {
   "cell_type": "markdown",
   "metadata": {},
   "source": [
    "# Models Evaluation"
   ]
  },
  {
   "cell_type": "code",
   "execution_count": 60,
   "metadata": {},
   "outputs": [],
   "source": [
    "models = pd.DataFrame({\n",
    "    'Model': ['Gradient Boosting', 'Random Forest', \n",
    "              'Multiple Regression','Ridge',\n",
    "                'Lasso', 'BaggingRegressor', \n",
    "              'Blended'],\n",
    "    \n",
    "    'r2_train': acc_train_r2,\n",
    "    'r2_test': acc_test_r2,\n",
    "    'rmse_train': acc_train_rmse,\n",
    "    'rmse_test': acc_test_rmse\n",
    "                     })"
   ]
  },
  {
   "cell_type": "code",
   "execution_count": 62,
   "metadata": {},
   "outputs": [],
   "source": [
    "pd.options.display.float_format = '{:,.2f}'.format"
   ]
  },
  {
   "cell_type": "code",
   "execution_count": 63,
   "metadata": {},
   "outputs": [
    {
     "name": "stdout",
     "output_type": "stream",
     "text": [
      "Prediction accuracy for models by R2 criterion - r2_test\n"
     ]
    },
    {
     "data": {
      "text/html": [
       "<div>\n",
       "<style scoped>\n",
       "    .dataframe tbody tr th:only-of-type {\n",
       "        vertical-align: middle;\n",
       "    }\n",
       "\n",
       "    .dataframe tbody tr th {\n",
       "        vertical-align: top;\n",
       "    }\n",
       "\n",
       "    .dataframe thead th {\n",
       "        text-align: right;\n",
       "    }\n",
       "</style>\n",
       "<table border=\"1\" class=\"dataframe\">\n",
       "  <thead>\n",
       "    <tr style=\"text-align: right;\">\n",
       "      <th></th>\n",
       "      <th>Model</th>\n",
       "      <th>r2_train</th>\n",
       "      <th>r2_test</th>\n",
       "      <th>rmse_train</th>\n",
       "      <th>rmse_test</th>\n",
       "    </tr>\n",
       "  </thead>\n",
       "  <tbody>\n",
       "    <tr>\n",
       "      <th>1</th>\n",
       "      <td>Random Forest</td>\n",
       "      <td>0.96</td>\n",
       "      <td>0.86</td>\n",
       "      <td>0.14</td>\n",
       "      <td>0.28</td>\n",
       "    </tr>\n",
       "    <tr>\n",
       "      <th>5</th>\n",
       "      <td>BaggingRegressor</td>\n",
       "      <td>0.96</td>\n",
       "      <td>0.85</td>\n",
       "      <td>0.15</td>\n",
       "      <td>0.28</td>\n",
       "    </tr>\n",
       "    <tr>\n",
       "      <th>6</th>\n",
       "      <td>Blended</td>\n",
       "      <td>0.93</td>\n",
       "      <td>0.85</td>\n",
       "      <td>0.17</td>\n",
       "      <td>0.27</td>\n",
       "    </tr>\n",
       "    <tr>\n",
       "      <th>0</th>\n",
       "      <td>Gradient Boosting</td>\n",
       "      <td>0.86</td>\n",
       "      <td>0.84</td>\n",
       "      <td>0.27</td>\n",
       "      <td>0.29</td>\n",
       "    </tr>\n",
       "    <tr>\n",
       "      <th>3</th>\n",
       "      <td>Ridge</td>\n",
       "      <td>0.73</td>\n",
       "      <td>0.73</td>\n",
       "      <td>0.14</td>\n",
       "      <td>0.28</td>\n",
       "    </tr>\n",
       "    <tr>\n",
       "      <th>4</th>\n",
       "      <td>Lasso</td>\n",
       "      <td>0.73</td>\n",
       "      <td>0.73</td>\n",
       "      <td>0.38</td>\n",
       "      <td>0.38</td>\n",
       "    </tr>\n",
       "    <tr>\n",
       "      <th>2</th>\n",
       "      <td>Multiple Regression</td>\n",
       "      <td>0.73</td>\n",
       "      <td>-5,462,421,941,653.68</td>\n",
       "      <td>0.38</td>\n",
       "      <td>1,706,824.26</td>\n",
       "    </tr>\n",
       "  </tbody>\n",
       "</table>\n",
       "</div>"
      ],
      "text/plain": [
       "                 Model  r2_train               r2_test  rmse_train  \\\n",
       "1        Random Forest      0.96                  0.86        0.14   \n",
       "5     BaggingRegressor      0.96                  0.85        0.15   \n",
       "6              Blended      0.93                  0.85        0.17   \n",
       "0    Gradient Boosting      0.86                  0.84        0.27   \n",
       "3                Ridge      0.73                  0.73        0.14   \n",
       "4                Lasso      0.73                  0.73        0.38   \n",
       "2  Multiple Regression      0.73 -5,462,421,941,653.68        0.38   \n",
       "\n",
       "     rmse_test  \n",
       "1         0.28  \n",
       "5         0.28  \n",
       "6         0.27  \n",
       "0         0.29  \n",
       "3         0.28  \n",
       "4         0.38  \n",
       "2 1,706,824.26  "
      ]
     },
     "execution_count": 63,
     "metadata": {},
     "output_type": "execute_result"
    }
   ],
   "source": [
    "print('Prediction accuracy for models by R2 criterion - r2_test')\n",
    "models.sort_values(by=['r2_test', 'r2_train'], ascending=False)"
   ]
  },
  {
   "cell_type": "code",
   "execution_count": 67,
   "metadata": {},
   "outputs": [
    {
     "name": "stdout",
     "output_type": "stream",
     "text": [
      "Prediction accuracy for models by RMSE - rmse_test\n"
     ]
    },
    {
     "data": {
      "text/html": [
       "<div>\n",
       "<style scoped>\n",
       "    .dataframe tbody tr th:only-of-type {\n",
       "        vertical-align: middle;\n",
       "    }\n",
       "\n",
       "    .dataframe tbody tr th {\n",
       "        vertical-align: top;\n",
       "    }\n",
       "\n",
       "    .dataframe thead th {\n",
       "        text-align: right;\n",
       "    }\n",
       "</style>\n",
       "<table border=\"1\" class=\"dataframe\">\n",
       "  <thead>\n",
       "    <tr style=\"text-align: right;\">\n",
       "      <th></th>\n",
       "      <th>Model</th>\n",
       "      <th>r2_train</th>\n",
       "      <th>r2_test</th>\n",
       "      <th>rmse_train</th>\n",
       "      <th>rmse_test</th>\n",
       "    </tr>\n",
       "  </thead>\n",
       "  <tbody>\n",
       "    <tr>\n",
       "      <th>6</th>\n",
       "      <td>Blended</td>\n",
       "      <td>0.93</td>\n",
       "      <td>0.85</td>\n",
       "      <td>0.17</td>\n",
       "      <td>0.27</td>\n",
       "    </tr>\n",
       "    <tr>\n",
       "      <th>1</th>\n",
       "      <td>Random Forest</td>\n",
       "      <td>0.96</td>\n",
       "      <td>0.86</td>\n",
       "      <td>0.14</td>\n",
       "      <td>0.28</td>\n",
       "    </tr>\n",
       "    <tr>\n",
       "      <th>3</th>\n",
       "      <td>Ridge</td>\n",
       "      <td>0.73</td>\n",
       "      <td>0.73</td>\n",
       "      <td>0.14</td>\n",
       "      <td>0.28</td>\n",
       "    </tr>\n",
       "    <tr>\n",
       "      <th>5</th>\n",
       "      <td>BaggingRegressor</td>\n",
       "      <td>0.96</td>\n",
       "      <td>0.85</td>\n",
       "      <td>0.15</td>\n",
       "      <td>0.28</td>\n",
       "    </tr>\n",
       "    <tr>\n",
       "      <th>0</th>\n",
       "      <td>Gradient Boosting</td>\n",
       "      <td>0.86</td>\n",
       "      <td>0.84</td>\n",
       "      <td>0.27</td>\n",
       "      <td>0.29</td>\n",
       "    </tr>\n",
       "    <tr>\n",
       "      <th>4</th>\n",
       "      <td>Lasso</td>\n",
       "      <td>0.73</td>\n",
       "      <td>0.73</td>\n",
       "      <td>0.38</td>\n",
       "      <td>0.38</td>\n",
       "    </tr>\n",
       "    <tr>\n",
       "      <th>2</th>\n",
       "      <td>Multiple Regression</td>\n",
       "      <td>0.73</td>\n",
       "      <td>-5,462,421,941,653.68</td>\n",
       "      <td>0.38</td>\n",
       "      <td>1,706,824.26</td>\n",
       "    </tr>\n",
       "  </tbody>\n",
       "</table>\n",
       "</div>"
      ],
      "text/plain": [
       "                 Model  r2_train               r2_test  rmse_train  \\\n",
       "6              Blended      0.93                  0.85        0.17   \n",
       "1        Random Forest      0.96                  0.86        0.14   \n",
       "3                Ridge      0.73                  0.73        0.14   \n",
       "5     BaggingRegressor      0.96                  0.85        0.15   \n",
       "0    Gradient Boosting      0.86                  0.84        0.27   \n",
       "4                Lasso      0.73                  0.73        0.38   \n",
       "2  Multiple Regression      0.73 -5,462,421,941,653.68        0.38   \n",
       "\n",
       "     rmse_test  \n",
       "6         0.27  \n",
       "1         0.28  \n",
       "3         0.28  \n",
       "5         0.28  \n",
       "0         0.29  \n",
       "4         0.38  \n",
       "2 1,706,824.26  "
      ]
     },
     "execution_count": 67,
     "metadata": {},
     "output_type": "execute_result"
    }
   ],
   "source": [
    "print('Prediction accuracy for models by RMSE - rmse_test')\n",
    "models.sort_values(by=['rmse_test', 'rmse_train'], ascending=True)"
   ]
  },
  {
   "cell_type": "code",
   "execution_count": 135,
   "metadata": {},
   "outputs": [
    {
     "data": {
      "image/png": "[encoded data removed]",
      "text/plain": [
       "<Figure size 1800x432 with 1 Axes>"
      ]
     },
     "metadata": {},
     "output_type": "display_data"
    }
   ],
   "source": [
    "# Plot\n",
    "plt.figure(figsize=[25,6])\n",
    "xx = models['Model']\n",
    "plt.tick_params(labelsize=14)\n",
    "plt.plot(xx, models['r2_train'], label = 'r2_train')\n",
    "plt.plot(xx, models['r2_test'], label = 'r2_test')\n",
    "plt.legend()\n",
    "plt.title('R2-criterion for 15 popular models for train and test datasets')\n",
    "plt.xlabel('Models')\n",
    "plt.ylabel('R2-criterion, %')\n",
    "plt.xticks(xx, rotation='vertical')\n",
    "plt.savefig('graph.png')\n",
    "plt.show()"
   ]
  },
  {
   "cell_type": "code",
   "execution_count": 136,
   "metadata": {},
   "outputs": [
    {
     "data": {
      "image/png": "[encoded data removed]",
      "text/plain": [
       "<Figure size 1800x432 with 1 Axes>"
      ]
     },
     "metadata": {},
     "output_type": "display_data"
    }
   ],
   "source": [
    "# Plot\n",
    "plt.figure(figsize=[25,6])\n",
    "xx = models['Model']\n",
    "plt.tick_params(labelsize=14)\n",
    "plt.plot(xx, models['rmse_train'], label = 'rmse_train')\n",
    "plt.plot(xx, models['rmse_test'], label = 'rmse_test')\n",
    "plt.legend()\n",
    "plt.title('R2-criterion for 15 popular models for train and test datasets')\n",
    "plt.xlabel('Models')\n",
    "plt.ylabel('R2-criterion, %')\n",
    "plt.xticks(xx, rotation='vertical')\n",
    "plt.savefig('graph.png')\n",
    "plt.show()"
   ]
  },
  {
   "cell_type": "code",
   "execution_count": null,
   "metadata": {},
   "outputs": [],
   "source": []
  },
  {
   "cell_type": "code",
   "execution_count": 142,
   "metadata": {},
   "outputs": [],
   "source": [
    "from sklearn.ensemble import RandomForestRegressor, GradientBoostingRegressor, AdaBoostRegressor, BaggingRegressor\n",
    "from sklearn.kernel_ridge import KernelRidge\n",
    "from sklearn.linear_model import ElasticNet, ElasticNetCV\n",
    "from mlxtend.regressor import StackingCVRegressor\n",
    "import lightgbm as lgb\n",
    "from lightgbm import LGBMRegressor\n",
    "from xgboost import XGBRegressor\n",
    "\n",
    "from sklearn.model_selection import KFold, cross_val_score"
   ]
  },
  {
   "cell_type": "code",
   "execution_count": 148,
   "metadata": {},
   "outputs": [],
   "source": [
    "kf = KFold(n_splits=12, random_state=42, shuffle=True)\n",
    "# Define error metrics\n",
    "def rmsle(y, y_pred):\n",
    "    return np.sqrt(mean_squared_error(y, y_pred))\n",
    "\n",
    "def cv_rmse(model, X=x):\n",
    "    rmse = np.sqrt(-cross_val_score(model, xx_train, y_train, scoring=\"neg_mean_squared_error\", cv=kf))\n",
    "    return (rmse)"
   ]
  },
  {
   "cell_type": "code",
   "execution_count": 146,
   "metadata": {},
   "outputs": [],
   "source": [
    "# Light Gradient Boosting Regressor\n",
    "lightgbm = LGBMRegressor(objective='regression', \n",
    "                       num_leaves=6,\n",
    "                       learning_rate=0.01, \n",
    "                       n_estimators=7000,\n",
    "                       max_bin=200, \n",
    "                       bagging_fraction=0.8,\n",
    "                       bagging_freq=4, \n",
    "                       bagging_seed=8,\n",
    "                       feature_fraction=0.2,\n",
    "                       feature_fraction_seed=8,\n",
    "                       min_sum_hessian_in_leaf = 11,\n",
    "                       verbose=-1,\n",
    "                       random_state=42)\n",
    "\n",
    "# XGBoost Regressor\n",
    "xgboost = XGBRegressor(learning_rate=0.01,\n",
    "                       n_estimators=6000,\n",
    "                       max_depth=4,\n",
    "                       min_child_weight=0,\n",
    "                       gamma=0.6,\n",
    "                       subsample=0.7,\n",
    "                       colsample_bytree=0.7,\n",
    "                       objective='reg:linear',\n",
    "                       nthread=-1,\n",
    "                       scale_pos_weight=1,\n",
    "                       seed=27,\n",
    "                       reg_alpha=0.00006,\n",
    "                       random_state=42)\n",
    "\n",
    "# Stack up all the models above, optimized using xgboost\n",
    "stack_gen = StackingCVRegressor(regressors=(xgboost, lightgbm, ridge, regressor),\n",
    "                                meta_regressor=xgboost,\n",
    "                                use_features_in_secondary=True)\n"
   ]
  },
  {
   "cell_type": "code",
   "execution_count": 149,
   "metadata": {},
   "outputs": [
    {
     "name": "stdout",
     "output_type": "stream",
     "text": [
      "lightgbm: 0.3297 (0.0026)\n"
     ]
    }
   ],
   "source": [
    "scores = {}\n",
    "\n",
    "score = cv_rmse(lightgbm)\n",
    "print(\"lightgbm: {:.4f} ({:.4f})\".format(score.mean(), score.std()))\n",
    "scores['lgb'] = (score.mean(), score.std())"
   ]
  },
  {
   "cell_type": "code",
   "execution_count": null,
   "metadata": {},
   "outputs": [
    {
     "name": "stdout",
     "output_type": "stream",
     "text": [
      "[03:03:21] WARNING: C:/Users/Administrator/workspace/xgboost-win64_release_1.0.0/src/objective/regression_obj.cu:167: reg:linear is now deprecated in favor of reg:squarederror.\n",
      "[03:34:50] WARNING: C:/Users/Administrator/workspace/xgboost-win64_release_1.0.0/src/objective/regression_obj.cu:167: reg:linear is now deprecated in favor of reg:squarederror.\n"
     ]
    }
   ],
   "source": [
    "score = cv_rmse(xgboost)\n",
    "print(\"xgboost: {:.4f} ({:.4f})\".format(score.mean(), score.std()))\n",
    "scores['xgb'] = (score.mean(), score.std())"
   ]
  },
  {
   "cell_type": "code",
   "execution_count": null,
   "metadata": {},
   "outputs": [],
   "source": [
    "print('stack_gen')\n",
    "stack_gen_model = stack_gen.fit(np.array(xx_train), np.array(y_train))"
   ]
  },
  {
   "cell_type": "code",
   "execution_count": null,
   "metadata": {},
   "outputs": [],
   "source": [
    "print('lightgbm')\n",
    "lgb_model_full_data = lightgbm.fit(xx_train, y_train)\n"
   ]
  },
  {
   "cell_type": "code",
   "execution_count": null,
   "metadata": {},
   "outputs": [],
   "source": [
    "print('xgboost')\n",
    "xgb_model_full_data = xgboost.fit(xx_train, y_train)"
   ]
  }
 ],
 "metadata": {
  "kernelspec": {
   "display_name": "Python 3",
   "language": "python",
   "name": "python3"
  },
  "language_info": {
   "codemirror_mode": {
    "name": "ipython",
    "version": 3
   },
   "file_extension": ".py",
   "mimetype": "text/x-python",
   "name": "python",
   "nbconvert_exporter": "python",
   "pygments_lexer": "ipython3",
   "version": "3.7.3"
  }
 },
 "nbformat": 4,
 "nbformat_minor": 2
}
